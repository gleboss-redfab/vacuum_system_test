{
 "cells": [
  {
   "cell_type": "code",
   "execution_count": 1,
   "metadata": {},
   "outputs": [
    {
     "name": "stdout",
     "output_type": "stream",
     "text": [
      "Requirement already satisfied: pymodbus in /home/redfab/.local/lib/python3.7/site-packages (2.5.3)\n",
      "Requirement already satisfied: six>=1.15.0 in /home/redfab/.local/lib/python3.7/site-packages (from pymodbus) (1.16.0)\n",
      "Requirement already satisfied: pyserial>=3.4 in /home/redfab/.local/lib/python3.7/site-packages (from pymodbus) (3.5)\n",
      "Note: you may need to restart the kernel to use updated packages.\n"
     ]
    }
   ],
   "source": [
    "pip install pymodbus"
   ]
  },
  {
   "cell_type": "markdown",
   "metadata": {},
   "source": [
    "### Эту команду прописать чтобы был доступ к порту USB"
   ]
  },
  {
   "cell_type": "code",
   "execution_count": 16,
   "metadata": {},
   "outputs": [
    {
     "ename": "SyntaxError",
     "evalue": "invalid syntax (1467591312.py, line 1)",
     "output_type": "error",
     "traceback": [
      "\u001b[0;36m  File \u001b[0;32m\"/tmp/ipykernel_4204/1467591312.py\"\u001b[0;36m, line \u001b[0;32m1\u001b[0m\n\u001b[0;31m    sudo chmod 666 /dev/ttyUSB0\u001b[0m\n\u001b[0m             ^\u001b[0m\n\u001b[0;31mSyntaxError\u001b[0m\u001b[0;31m:\u001b[0m invalid syntax\n"
     ]
    }
   ],
   "source": [
    "sudo chmod 666 /dev/ttyUSB0"
   ]
  },
  {
   "cell_type": "code",
   "execution_count": 1,
   "metadata": {},
   "outputs": [],
   "source": [
    "import serial\n",
    "from pymodbus.pdu import ModbusRequest\n",
    "from pymodbus.client.sync import ModbusSerialClient as ModbusClient\n",
    "from pymodbus.transaction import ModbusRtuFramer\n",
    "from pymodbus.constants import Defaults\n",
    "\n",
    "from time import sleep\n",
    "from typing import List\n",
    "import struct\n",
    "import json\n",
    "\n",
    "\n",
    "# Константы повторного опроса при пропаже соединенния или пакета\n",
    "Defaults.RetryOnEmpty = True\n",
    "Defaults.Timeout = 5\n",
    "Defaults.Retries = 5"
   ]
  },
  {
   "cell_type": "code",
   "execution_count": 2,
   "metadata": {},
   "outputs": [],
   "source": [
    "client = ModbusClient(method = 'rtu', \n",
    "                    port='/dev/ttyUSB0', \n",
    "                    baudrate=115200,\n",
    "                    timeout=1, \n",
    "                    bytesize=8, \n",
    "                    stopbits=1)\n",
    "\n",
    "vacuum_system_slave_id = 1"
   ]
  },
  {
   "cell_type": "code",
   "execution_count": 3,
   "metadata": {},
   "outputs": [],
   "source": [
    "# кодирование и декодирование float -> [uint16, uint16]\n",
    "def encode_float(value: float) -> List:\n",
    "\tfloat_in_bytes = bytearray(struct.pack(\"f\", value))\n",
    "\tvalues = [] \n",
    "\tfor idx in range(0, len(float_in_bytes), 2): \n",
    "\t\tvalues.append((float_in_bytes[idx]<<8) + float_in_bytes[idx + 1]) \n",
    "\t\n",
    "\treturn values \n",
    "\n",
    "def decode_to_float(data: List) -> float:\n",
    "\tbarray = bytearray([]) \n",
    "\tfor value in data: \n",
    "\t\tbarray += bytearray([value>>8, value&0xFF]) \n",
    "\t\n",
    "\tif isinstance(barray, list): \n",
    "\t\tfloat_raw = struct.unpack(\"f\", bytearray(barray))[0] \n",
    "\telse:\n",
    "\t\tfloat_raw =  struct.unpack(\"f\", barray)[0]\n",
    "\n",
    "\treturn round(float_raw, 4)\n",
    "\n",
    "\n",
    "def mb_connect():\n",
    "    # првоеряем подключение, пытаемся подключиться 10 раз\n",
    "    for i in range(10):\n",
    "        connection = client.connect()\n",
    "        if(not connection):\n",
    "            print(\"Modbus not connected... try to connect again\")\n",
    "            sleep(0.1)\n",
    "        else:\n",
    "            print(\"Modbus connected succesfully\")\n",
    "            return connection\n",
    "\n",
    "    return False\n",
    "\n",
    "class VacuumModbusManager(object):\n",
    "    def mb_read_state(self):\n",
    "        connection = mb_connect()\n",
    "        if not connection:\n",
    "            return False, None\n",
    "\n",
    "        state = client.read_holding_registers(0, 30, unit=vacuum_system_slave_id) # start_address, count, slave_id\n",
    "        \n",
    "        if state.isError():\n",
    "            print('Unable to read state or there is the connection problem.')\n",
    "            return False, None\n",
    "\n",
    "        return True, state.registers\n",
    "\n",
    "\n",
    "    def mb_read_pressure_state(self):\n",
    "        connection = mb_connect()\n",
    "        if not connection:\n",
    "            return False, None\n",
    "\n",
    "        state = client.read_holding_registers(22, 8, unit=vacuum_system_slave_id) # start_address, count, slave_id\n",
    "        \n",
    "        if state.isError():\n",
    "            print('Unable to read state or there is the connection problem.')\n",
    "            return False, None\n",
    "\n",
    "        # return True, state.registers\n",
    "\n",
    "        # convert raw bytes to float\n",
    "        data = []\n",
    "        data.append(decode_to_float(state.registers[0:2]))\n",
    "        data.append(decode_to_float(state.registers[2:4]))\n",
    "        data.append(decode_to_float(state.registers[4:6]))\n",
    "        data.append(decode_to_float(state.registers[6:8]))\n",
    "\n",
    "        return True, data\n",
    "\n",
    "\n",
    "    def mb_write_default_params(self):\n",
    "        connection = mb_connect()\n",
    "        if not connection:\n",
    "            return False\n",
    "        \n",
    "        default_parameters = [600, 200, 850, 1000, 20000, 50]\n",
    "\n",
    "        # записываем регистры и проверяем ответ\n",
    "        # TODO: сделать несколько попыток\n",
    "        response = client.write_registers(4, default_parameters, unit=vacuum_system_slave_id)\n",
    "        if response.isError():\n",
    "            print('Unable to write default params or there is the connection problem.')\n",
    "            return False\n",
    "        return True\n",
    "\n",
    "\n",
    "    def mb_write_single_register(self, adress, data):\n",
    "        connection = mb_connect()\n",
    "        if not connection:\n",
    "            return False\n",
    "    \n",
    "        response = client.write_register(adress, int(data), unit=vacuum_system_slave_id)  \n",
    "        if response.isError():\n",
    "            print('Unable to write command or there is the connection problem.')\n",
    "            return False\n",
    "\n",
    "        return True\n",
    "\n",
    "# \n",
    "vacuum_mb = VacuumModbusManager()"
   ]
  },
  {
   "cell_type": "markdown",
   "metadata": {},
   "source": [
    "## Conection"
   ]
  },
  {
   "cell_type": "code",
   "execution_count": 4,
   "metadata": {},
   "outputs": [
    {
     "name": "stdout",
     "output_type": "stream",
     "text": [
      "Modbus connected succesfully\n"
     ]
    },
    {
     "data": {
      "text/plain": [
       "True"
      ]
     },
     "execution_count": 4,
     "metadata": {},
     "output_type": "execute_result"
    }
   ],
   "source": [
    "mb_connect()"
   ]
  },
  {
   "cell_type": "markdown",
   "metadata": {},
   "source": [
    "## Все регистры (состояние системы)"
   ]
  },
  {
   "cell_type": "code",
   "execution_count": 5,
   "metadata": {},
   "outputs": [
    {
     "name": "stdout",
     "output_type": "stream",
     "text": [
      "Modbus connected succesfully\n",
      "{\n",
      "    \"0\": 1,\n",
      "    \"1\": 0,\n",
      "    \"2\": 1,\n",
      "    \"3\": 0,\n",
      "    \"4\": 600,\n",
      "    \"5\": 200,\n",
      "    \"6\": 600,\n",
      "    \"7\": 1000,\n",
      "    \"8\": 20000,\n",
      "    \"9\": 50,\n",
      "    \"10\": 10,\n",
      "    \"11\": 0,\n",
      "    \"12\": 0,\n",
      "    \"13\": 1,\n",
      "    \"14\": 0,\n",
      "    \"15\": 0,\n",
      "    \"16\": 0,\n",
      "    \"17\": 0,\n",
      "    \"18\": 0,\n",
      "    \"19\": 0,\n",
      "    \"20\": 0,\n",
      "    \"21\": 0,\n",
      "    \"22\": 44603,\n",
      "    \"23\": 2116,\n",
      "    \"24\": 40954,\n",
      "    \"25\": 26436,\n",
      "    \"26\": 38074,\n",
      "    \"27\": 7236,\n",
      "    \"28\": 2186,\n",
      "    \"29\": 32068\n",
      "}\n"
     ]
    }
   ],
   "source": [
    "is_connect, state = vacuum_mb.mb_read_state()\n",
    "result = {}\n",
    "for i in range(30):\n",
    "    result[i] = state[i]\n",
    "\n",
    "\n",
    "result = json.dumps(result, indent=4, sort_keys=True)\n",
    "print(result)"
   ]
  },
  {
   "cell_type": "markdown",
   "metadata": {},
   "source": [
    "## Показания датчиков давления"
   ]
  },
  {
   "cell_type": "code",
   "execution_count": 10,
   "metadata": {},
   "outputs": [
    {
     "name": "stdout",
     "output_type": "stream",
     "text": [
      "Modbus connected succesfully\n",
      "{\n",
      "    \"0\": 547.6501,\n",
      "    \"1\": 927.8745,\n",
      "    \"2\": 629.4133,\n",
      "    \"3\": 1014.1259\n",
      "}\n"
     ]
    }
   ],
   "source": [
    "is_connect, state = vacuum_mb.mb_read_pressure_state()\n",
    "result = {}\n",
    "for i in range(4):\n",
    "    result[i] = state[i]\n",
    "\n",
    "\n",
    "result = json.dumps(result, indent=4, sort_keys=True)\n",
    "print(result)"
   ]
  },
  {
   "cell_type": "markdown",
   "metadata": {},
   "source": [
    "## Включить ресивер"
   ]
  },
  {
   "cell_type": "code",
   "execution_count": 128,
   "metadata": {},
   "outputs": [
    {
     "name": "stdout",
     "output_type": "stream",
     "text": [
      "Modbus connected succesfully\n"
     ]
    },
    {
     "data": {
      "text/plain": [
       "True"
      ]
     },
     "execution_count": 128,
     "metadata": {},
     "output_type": "execute_result"
    }
   ],
   "source": [
    "is_mb_connect = vacuum_mb.mb_write_single_register(0, 1)\n",
    "is_mb_connect"
   ]
  },
  {
   "cell_type": "markdown",
   "metadata": {},
   "source": [
    "## Выключить ресивер"
   ]
  },
  {
   "cell_type": "code",
   "execution_count": 110,
   "metadata": {},
   "outputs": [
    {
     "name": "stdout",
     "output_type": "stream",
     "text": [
      "Modbus connected succesfully\n"
     ]
    },
    {
     "data": {
      "text/plain": [
       "True"
      ]
     },
     "execution_count": 110,
     "metadata": {},
     "output_type": "execute_result"
    }
   ],
   "source": [
    "is_mb_connect = vacuum_mb.mb_write_single_register(0, 0)\n",
    "is_mb_connect"
   ]
  },
  {
   "cell_type": "markdown",
   "metadata": {},
   "source": [
    "## Включить 1 стол"
   ]
  },
  {
   "cell_type": "code",
   "execution_count": 90,
   "metadata": {},
   "outputs": [
    {
     "name": "stdout",
     "output_type": "stream",
     "text": [
      "Modbus connected succesfully\n"
     ]
    },
    {
     "data": {
      "text/plain": [
       "True"
      ]
     },
     "execution_count": 90,
     "metadata": {},
     "output_type": "execute_result"
    }
   ],
   "source": [
    "is_mb_connect = vacuum_mb.mb_write_single_register(1, 1)\n",
    "is_mb_connect"
   ]
  },
  {
   "cell_type": "markdown",
   "metadata": {},
   "source": [
    "## Выключить 1 стол"
   ]
  },
  {
   "cell_type": "code",
   "execution_count": 109,
   "metadata": {},
   "outputs": [
    {
     "name": "stdout",
     "output_type": "stream",
     "text": [
      "Modbus connected succesfully\n"
     ]
    },
    {
     "data": {
      "text/plain": [
       "True"
      ]
     },
     "execution_count": 109,
     "metadata": {},
     "output_type": "execute_result"
    }
   ],
   "source": [
    "is_mb_connect = vacuum_mb.mb_write_single_register(1, 0)\n",
    "is_mb_connect"
   ]
  },
  {
   "cell_type": "markdown",
   "metadata": {},
   "source": [
    "## Включить 2 стол"
   ]
  },
  {
   "cell_type": "code",
   "execution_count": 124,
   "metadata": {},
   "outputs": [
    {
     "name": "stdout",
     "output_type": "stream",
     "text": [
      "Modbus connected succesfully\n"
     ]
    },
    {
     "data": {
      "text/plain": [
       "True"
      ]
     },
     "execution_count": 124,
     "metadata": {},
     "output_type": "execute_result"
    }
   ],
   "source": [
    "is_mb_connect = vacuum_mb.mb_write_single_register(2, 1)\n",
    "is_mb_connect"
   ]
  },
  {
   "cell_type": "markdown",
   "metadata": {},
   "source": [
    "## Выключить 2 стол"
   ]
  },
  {
   "cell_type": "code",
   "execution_count": 11,
   "metadata": {},
   "outputs": [
    {
     "name": "stdout",
     "output_type": "stream",
     "text": [
      "Modbus connected succesfully\n"
     ]
    },
    {
     "data": {
      "text/plain": [
       "True"
      ]
     },
     "execution_count": 11,
     "metadata": {},
     "output_type": "execute_result"
    }
   ],
   "source": [
    "is_mb_connect = vacuum_mb.mb_write_single_register(2, 0)\n",
    "is_mb_connect"
   ]
  },
  {
   "cell_type": "markdown",
   "metadata": {},
   "source": [
    "## Включить 3 стол"
   ]
  },
  {
   "cell_type": "code",
   "execution_count": 125,
   "metadata": {},
   "outputs": [
    {
     "name": "stdout",
     "output_type": "stream",
     "text": [
      "Modbus connected succesfully\n"
     ]
    },
    {
     "data": {
      "text/plain": [
       "True"
      ]
     },
     "execution_count": 125,
     "metadata": {},
     "output_type": "execute_result"
    }
   ],
   "source": [
    "is_mb_connect = vacuum_mb.mb_write_single_register(3, 1)\n",
    "is_mb_connect"
   ]
  },
  {
   "cell_type": "markdown",
   "metadata": {},
   "source": [
    "## Выключить 3 стол"
   ]
  },
  {
   "cell_type": "code",
   "execution_count": 108,
   "metadata": {},
   "outputs": [
    {
     "name": "stdout",
     "output_type": "stream",
     "text": [
      "Modbus connected succesfully\n"
     ]
    },
    {
     "data": {
      "text/plain": [
       "True"
      ]
     },
     "execution_count": 108,
     "metadata": {},
     "output_type": "execute_result"
    }
   ],
   "source": [
    "is_mb_connect = vacuum_mb.mb_write_single_register(3, 0)\n",
    "is_mb_connect"
   ]
  }
 ],
 "metadata": {
  "kernelspec": {
   "display_name": "Python 3.7.3 64-bit",
   "language": "python",
   "name": "python3"
  },
  "language_info": {
   "codemirror_mode": {
    "name": "ipython",
    "version": 3
   },
   "file_extension": ".py",
   "mimetype": "text/x-python",
   "name": "python",
   "nbconvert_exporter": "python",
   "pygments_lexer": "ipython3",
   "version": "3.7.3"
  },
  "orig_nbformat": 4,
  "vscode": {
   "interpreter": {
    "hash": "916dbcbb3f70747c44a77c7bcd40155683ae19c65e1c03b4aa3499c5328201f1"
   }
  }
 },
 "nbformat": 4,
 "nbformat_minor": 2
}
