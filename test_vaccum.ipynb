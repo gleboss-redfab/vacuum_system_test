{
 "cells": [
  {
   "cell_type": "code",
   "execution_count": 1,
   "metadata": {},
   "outputs": [
    {
     "name": "stdout",
     "output_type": "stream",
     "text": [
      "Requirement already satisfied: pymodbus in /home/redfab/.local/lib/python3.7/site-packages (2.5.3)\n",
      "Requirement already satisfied: six>=1.15.0 in /home/redfab/.local/lib/python3.7/site-packages (from pymodbus) (1.16.0)\n",
      "Requirement already satisfied: pyserial>=3.4 in /home/redfab/.local/lib/python3.7/site-packages (from pymodbus) (3.5)\n",
      "Note: you may need to restart the kernel to use updated packages.\n"
     ]
    }
   ],
   "source": [
    "pip install pymodbus"
   ]
  },
  {
   "cell_type": "code",
   "execution_count": 16,
   "metadata": {},
   "outputs": [
    {
     "ename": "SyntaxError",
     "evalue": "invalid syntax (1467591312.py, line 1)",
     "output_type": "error",
     "traceback": [
      "\u001b[0;36m  File \u001b[0;32m\"/tmp/ipykernel_4204/1467591312.py\"\u001b[0;36m, line \u001b[0;32m1\u001b[0m\n\u001b[0;31m    sudo chmod 666 /dev/ttyUSB0\u001b[0m\n\u001b[0m             ^\u001b[0m\n\u001b[0;31mSyntaxError\u001b[0m\u001b[0;31m:\u001b[0m invalid syntax\n"
     ]
    }
   ],
   "source": [
    "sudo chmod 666 /dev/ttyUSB0"
   ]
  },
  {
   "cell_type": "code",
   "execution_count": 17,
   "metadata": {},
   "outputs": [],
   "source": [
    "import serial\n",
    "from pymodbus.pdu import ModbusRequest\n",
    "from pymodbus.client.sync import ModbusSerialClient as ModbusClient\n",
    "from pymodbus.transaction import ModbusRtuFramer\n",
    "from pymodbus.constants import Defaults\n",
    "\n",
    "from time import sleep\n",
    "from typing import List\n",
    "import struct\n",
    "\n",
    "\n",
    "# Константы повторного опроса при пропаже соединенния или пакета\n",
    "Defaults.RetryOnEmpty = True\n",
    "Defaults.Timeout = 5\n",
    "Defaults.Retries = 5"
   ]
  },
  {
   "cell_type": "code",
   "execution_count": 18,
   "metadata": {},
   "outputs": [],
   "source": [
    "client = ModbusClient(method = 'rtu', \n",
    "                    port='/dev/ttyUSB0', \n",
    "                    baudrate=115200,\n",
    "                    timeout=1, \n",
    "                    bytesize=8, \n",
    "                    stopbits=1)\n",
    "\n",
    "vacuum_system_slave_id = 1"
   ]
  },
  {
   "cell_type": "code",
   "execution_count": 27,
   "metadata": {},
   "outputs": [],
   "source": [
    "# кодирование и декодирование float -> [uint16, uint16]\n",
    "def encode_float(value: float) -> List:\n",
    "\tfloat_in_bytes = bytearray(struct.pack(\"f\", value))\n",
    "\tvalues = [] \n",
    "\tfor idx in range(0, len(float_in_bytes), 2): \n",
    "\t\tvalues.append((float_in_bytes[idx]<<8) + float_in_bytes[idx + 1]) \n",
    "\t\n",
    "\treturn values \n",
    "\n",
    "def decode_to_float(data: List) -> float:\n",
    "\tbarray = bytearray([]) \n",
    "\tfor value in data: \n",
    "\t\tbarray += bytearray([value>>8, value&0xFF]) \n",
    "\t\n",
    "\tif isinstance(barray, list): \n",
    "\t\tfloat_raw = struct.unpack(\"f\", bytearray(barray))[0] \n",
    "\telse:\n",
    "\t\tfloat_raw =  struct.unpack(\"f\", barray)[0]\n",
    "\n",
    "\treturn round(float_raw, 4)\n",
    "\n",
    "\n",
    "def mb_connect():\n",
    "    # првоеряем подключение, пытаемся подключиться 10 раз\n",
    "    for i in range(10):\n",
    "        connection = client.connect()\n",
    "        if(not connection):\n",
    "            print(\"Modbus not connected... try to connect again\")\n",
    "            sleep(0.1)\n",
    "        else:\n",
    "            print(\"Modbus connected succesfully\")\n",
    "            return connection\n",
    "\n",
    "    return False\n",
    "\n",
    "class VacuumModbusManager(object):\n",
    "    def mb_read_state(self):\n",
    "        connection = mb_connect()\n",
    "        if not connection:\n",
    "            return False, None\n",
    "\n",
    "        state = client.read_holding_registers(0, 30, unit=vacuum_system_slave_id) # start_address, count, slave_id\n",
    "        \n",
    "        if state.isError():\n",
    "            print('Unable to read state or there is the connection problem.')\n",
    "            return False, None\n",
    "\n",
    "        return True, state.registers\n",
    "\n",
    "\n",
    "    def mb_read_pressure_state(self):\n",
    "        connection = mb_connect()\n",
    "        if not connection:\n",
    "            return False, None\n",
    "\n",
    "        state = client.read_holding_registers(22, 8, unit=vacuum_system_slave_id) # start_address, count, slave_id\n",
    "        \n",
    "        if state.isError():\n",
    "            print('Unable to read state or there is the connection problem.')\n",
    "            return False, None\n",
    "\n",
    "        # return True, state.registers\n",
    "\n",
    "        # convert raw bytes to float\n",
    "        data = []\n",
    "        data.append(decode_to_float(state.registers[0:2]))\n",
    "        data.append(decode_to_float(state.registers[2:4]))\n",
    "        data.append(decode_to_float(state.registers[4:6]))\n",
    "        data.append(decode_to_float(state.registers[6:8]))\n",
    "\n",
    "        return True, data\n",
    "\n",
    "\n",
    "    def mb_write_default_params(self):\n",
    "        connection = mb_connect()\n",
    "        if not connection:\n",
    "            return False\n",
    "        \n",
    "        default_parameters = [600, 200, 850, 1000, 20000, 50]\n",
    "\n",
    "        # записываем регистры и проверяем ответ\n",
    "        # TODO: сделать несколько попыток\n",
    "        response = client.write_registers(4, default_parameters, unit=vacuum_system_slave_id)\n",
    "        if response.isError():\n",
    "            print('Unable to write default params or there is the connection problem.')\n",
    "            return False\n",
    "        return True\n",
    "\n",
    "\n",
    "    def mb_write_single_register(self, adress, data):\n",
    "        connection = mb_connect()\n",
    "        if not connection:\n",
    "            return False\n",
    "    \n",
    "        response = client.write_register(adress, int(data), unit=vacuum_system_slave_id)  \n",
    "        if response.isError():\n",
    "            print('Unable to write command or there is the connection problem.')\n",
    "            return False\n",
    "\n",
    "        return True\n",
    "\n",
    "# \n",
    "vacuum_mb = VacuumModbusManager()"
   ]
  },
  {
   "cell_type": "markdown",
   "metadata": {},
   "source": [
    "## Conection"
   ]
  },
  {
   "cell_type": "code",
   "execution_count": 20,
   "metadata": {},
   "outputs": [
    {
     "name": "stdout",
     "output_type": "stream",
     "text": [
      "Modbus connected succesfully\n"
     ]
    },
    {
     "data": {
      "text/plain": [
       "True"
      ]
     },
     "execution_count": 20,
     "metadata": {},
     "output_type": "execute_result"
    }
   ],
   "source": [
    "mb_connect()"
   ]
  },
  {
   "cell_type": "markdown",
   "metadata": {},
   "source": [
    "## Read State"
   ]
  },
  {
   "cell_type": "code",
   "execution_count": null,
   "metadata": {},
   "outputs": [],
   "source": [
    "is_connect, state = vacuum_mb.mb_read_state()\n",
    "state"
   ]
  },
  {
   "cell_type": "markdown",
   "metadata": {},
   "source": [
    "## Показания датчиков"
   ]
  },
  {
   "cell_type": "code",
   "execution_count": 28,
   "metadata": {},
   "outputs": [
    {
     "name": "stdout",
     "output_type": "stream",
     "text": [
      "Modbus connected succesfully\n"
     ]
    },
    {
     "data": {
      "text/plain": [
       "[1401, 30020, 59842, 26436, 40012, 34628, 17730, 32068]"
      ]
     },
     "execution_count": 28,
     "metadata": {},
     "output_type": "execute_result"
    }
   ],
   "source": [
    "is_connect, state = vacuum_mb.mb_read_pressure_state()\n",
    "state"
   ]
  }
 ],
 "metadata": {
  "kernelspec": {
   "display_name": "Python 3.7.3 64-bit",
   "language": "python",
   "name": "python3"
  },
  "language_info": {
   "codemirror_mode": {
    "name": "ipython",
    "version": 3
   },
   "file_extension": ".py",
   "mimetype": "text/x-python",
   "name": "python",
   "nbconvert_exporter": "python",
   "pygments_lexer": "ipython3",
   "version": "3.7.3"
  },
  "orig_nbformat": 4,
  "vscode": {
   "interpreter": {
    "hash": "916dbcbb3f70747c44a77c7bcd40155683ae19c65e1c03b4aa3499c5328201f1"
   }
  }
 },
 "nbformat": 4,
 "nbformat_minor": 2
}
